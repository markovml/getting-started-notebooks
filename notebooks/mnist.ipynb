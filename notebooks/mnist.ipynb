{
 "cells": [
  {
   "cell_type": "markdown",
   "id": "8a49b51a-8991-4681-9a57-cd5f90548d39",
   "metadata": {
    "tags": []
   },
   "source": [
    "MNIST Data Classifier\n",
    "\n",
    "In this example, we will be creating a keras DNN model to identify the images MNIST dataset as numerical digits.\n",
    "\n",
    "We will take the following steps:\n",
    "\n",
    "    Use an existing project we created for working with MNIST dataset.\n",
    "    Create an experiment to track the training process where we will record the hyper-parameters, loss curve, epoch time, CPU stats etc.\n",
    "    Evaluate the trained model against the test dataset\n",
    "\n",
    "Pre-Requisites\n",
    "\n",
    "    Please complete the setup of your machine.\n",
    "    Install Pandas, Keras, Tensorflow\n",
    "\n",
    "pip install pandas scikit-learn keras tensorflow\n",
    "\n",
    "Example\n"
   ]
  },
  {
   "cell_type": "code",
   "execution_count": null,
   "id": "ae361fc8-e1ae-441b-a13f-a20b3b5582b2",
   "metadata": {},
   "outputs": [],
   "source": [
    "import time\n",
    "\n",
    "from keras.datasets import mnist\n",
    "from keras.layers import Dense\n",
    "from keras.models import Sequential\n",
    "from keras.optimizers import RMSprop\n",
    "from keras.utils import to_categorical\n",
    "\n",
    "import markov\n",
    "from markov.api.schemas.model_recording import SingleTagInferenceRecord\n"
   ]
  },
  {
   "cell_type": "code",
   "execution_count": null,
   "id": "ebedd048-ed63-495e-b402-9599862e76ac",
   "metadata": {},
   "outputs": [],
   "source": [
    "# Load an existing project using its id. You can find the list of projects here: `app.markovml.com/<workspace_id>/proj`\n",
    "# This is an optional step, you can directly use the project id in experimentation and evaluation of your model\n",
    "mnist_project = markov.Project.from_id(project_id=\"3z9Qku9rbVX3BS\")\n"
   ]
  },
  {
   "cell_type": "code",
   "execution_count": null,
   "id": "26fc0621-2cf9-48ac-81ef-14082160c381",
   "metadata": {},
   "outputs": [],
   "source": [
    "# Load your dataset, in this case we are using the keras library to load the dataset. You can load it in any way.\n",
    "(x_train, y_train), (x_test, y_test) = mnist.load_data()\n",
    "\n",
    "IMAGE_INPUT_SHAPE = 784\n",
    "\n",
    "# Minor data pre-processing\n",
    "# reshape, convert to float and normalize to send standard input into the DNN\n",
    "x_train = x_train.reshape(-1, IMAGE_INPUT_SHAPE).astype(\"float32\") / 255.0\n",
    "x_test = x_test.reshape(-1, IMAGE_INPUT_SHAPE).astype(\"float32\") / 255.0\n",
    "\n",
    "num_classes = 10  # since there are 10 digits in which we are classifying the images to\n",
    "\n",
    "# convert class vectors to binary class matrices\n",
    "y_train = to_categorical(y_train, num_classes)\n",
    "y_test = to_categorical(y_test, num_classes)\n"
   ]
  },
  {
   "cell_type": "code",
   "execution_count": null,
   "id": "27960552-0c5c-4c5c-b905-af6696b4777d",
   "metadata": {},
   "outputs": [],
   "source": [
    "# build the model that will be used to classify the MNIST images\n",
    "def _build_model_graph(input_shape=(IMAGE_INPUT_SHAPE,)):\n",
    "    model = Sequential()\n",
    "    model.add(Dense(512, activation=\"relu\", input_shape=input_shape))\n",
    "    model.add(Dense(512, activation=\"relu\"))\n",
    "    model.add(Dense(10, activation=\"softmax\"))\n",
    "    model.compile(\n",
    "        loss=\"categorical_crossentropy\", optimizer=RMSprop(), metrics=[\"accuracy\"]\n",
    "    )\n",
    "\n",
    "    return model\n",
    "\n",
    "\n",
    "MODEL_NAME = f\"Classification of MNIST Dataset using Keras DNN {int(time.time())}\"\n",
    "\n"
   ]
  },
  {
   "cell_type": "code",
   "execution_count": null,
   "id": "9d6155f6-6f98-41ec-9891-5b3aa97e1ee3",
   "metadata": {},
   "outputs": [],
   "source": [
    "# auto_record will automatically track the experiment - including its hyper-parameters, loss curve, epoch time etc.\n",
    "markov.keras.auto_record(\n",
    "    name=MODEL_NAME,\n",
    "    notes=\"This experiment is used to track the training process of the Keras DNN used for classification of MNIST.\",\n",
    "    project_id=mnist_project.project_id,  # you can simply paste the project_id here as well\n",
    ")\n",
    "\n",
    "model = _build_model_graph()\n"
   ]
  },
  {
   "cell_type": "code",
   "execution_count": null,
   "id": "402d342b-9e42-4174-a6bc-aacb10091e11",
   "metadata": {},
   "outputs": [],
   "source": [
    "# The training process will automatically be tracked as we used \"auto_record\" above.\n",
    "model.fit(x_train, y_train, batch_size=128, epochs=5)\n",
    "\n",
    "\n",
    "# Now let us evaluate this model against (x_test, y_test)\n",
    "evaluation_recorder = markov.EvaluationRecorder(\n",
    "    name=f\"Evaluate {MODEL_NAME}\",\n",
    "    model_id=model.markov_model_id,\n",
    "    project_id=mnist_project.project_id,\n",
    ")\n",
    "\n",
    "evaluation_recorder.register()\n"
   ]
  },
  {
   "cell_type": "code",
   "execution_count": null,
   "id": "81f9ece4-ff8f-4c1b-a926-0ceb5c321f20",
   "metadata": {},
   "outputs": [],
   "source": [
    "y_pred = model.predict(x_test)\n",
    "\n",
    "urid = 1\n",
    "for pred, actual in zip(y_pred, y_test):\n",
    "    evaluation_record = SingleTagInferenceRecord(\n",
    "        inferred=pred.argmax().item(),\n",
    "        actual=actual.argmax().item(),\n",
    "        score=pred.max().item(),\n",
    "        urid=urid,\n",
    "    )\n",
    "    urid = urid + 1\n",
    "\n",
    "    evaluation_recorder.add_record(evaluation_record)\n",
    "\n",
    "outcome = evaluation_recorder.finish()"
   ]
  }
 ],
 "metadata": {
  "kernelspec": {
   "display_name": "Python 3 (ipykernel)",
   "language": "python",
   "name": "python3"
  },
  "language_info": {
   "codemirror_mode": {
    "name": "ipython",
    "version": 3
   },
   "file_extension": ".py",
   "mimetype": "text/x-python",
   "name": "python",
   "nbconvert_exporter": "python",
   "pygments_lexer": "ipython3",
   "version": "3.10.10"
  }
 },
 "nbformat": 4,
 "nbformat_minor": 5
}

{
 "cells": [
  {
   "cell_type": "markdown",
   "id": "31cb4114-bf00-4de6-b967-f225192a78e3",
   "metadata": {},
   "source": [
    "Sentiment Classifier\n",
    "\n",
    "In this example, we'll train and evaluate a sentiment classifier on a sample extracted from a 1.6 million tweet dataset available here.\n",
    "Pre-Requisites\n",
    "\n",
    "We recommend running this example in a virtual environment for running this example. Also, we recommend using anaconda for machine learning.\n",
    "\n",
    "    Please complete the setup of your machine.\n",
    "    Install Pandas, Keras, Tensorflow\n",
    "\n",
    "pip install pandas scikit-learn keras tensorflow\n",
    "\n",
    "3. Create a folder name data and download the sample file from here into it. Divide this file into two parts: twitter_train_dataset.csv and twitter_test_dataset. In the below program we have taken a 80-20 train to test ratio.\n",
    "Example\n"
   ]
  },
  {
   "cell_type": "code",
   "execution_count": null,
   "id": "37f98851-bc79-44c3-88d6-19d78bb12899",
   "metadata": {},
   "outputs": [],
   "source": [
    "import markov\n"
   ]
  },
  {
   "cell_type": "code",
   "execution_count": null,
   "id": "57f15b69-ee59-498c-a2bc-8207adb4959e",
   "metadata": {},
   "outputs": [],
   "source": [
    "# GET PROJECT\n",
    "# we have already created a project for this model with project_id: 4FzUBTJv8f9uPb\n",
    "# you can create a new project from the MarkovML SDK or the web UI\n",
    "project = markov.Project.from_id(\"4FzUBTJv8f9uPb\")\n"
   ]
  },
  {
   "cell_type": "code",
   "execution_count": null,
   "id": "36ea97a5-90ce-4281-bf83-88127575d004",
   "metadata": {},
   "outputs": [],
   "source": [
    "# GET DATASET\n",
    "# We have uploaded the following train and test segments to markov as well with dataset id: 3vRT5Ut6mhPqFGc23\n",
    "train_data_location = \"./data/twitter_train_dataset.csv\"  # location of your dataset\n",
    "test_data_location = \"./data/twitter_test_dataset.csv\"  # location of your dataset\n"
   ]
  },
  {
   "cell_type": "code",
   "execution_count": null,
   "id": "71515ec9-d5f8-45fa-b905-ab5acf9ee1fe",
   "metadata": {},
   "outputs": [],
   "source": [
    "# read data into dataframe\n",
    "train_df = pd.read_csv(train_data_location, encoding='latin')\n",
    "test_df = pd.read_csv(test_data_location, encoding='latin')\n"
   ]
  },
  {
   "cell_type": "code",
   "execution_count": null,
   "id": "28928c54-5d3a-4498-8a4a-c7e9875129fe",
   "metadata": {},
   "outputs": [],
   "source": [
    "# concatenate the data to vectorize both together\n",
    "data = pd.concat([train_df, test_df])\n"
   ]
  },
  {
   "cell_type": "code",
   "execution_count": null,
   "id": "25c8f835-0aa8-49e7-9bd5-125811760925",
   "metadata": {},
   "outputs": [],
   "source": [
    "# train a count vectorizer\n",
    "tf_vec = CountVectorizer()\n",
    "tf_vec.fit(data)\n",
    "x_train, y_train = train_df['text'].values.tolist(), train_df['target'].values\n",
    "x_test, y_test = test_df['text'].values.tolist(), test_df['target'].values\n",
    "\n",
    "# transform to vectors\n",
    "x_train_trans = tf_vec.transform(x_train)\n",
    "x_test_trans = tf_vec.transform(x_test)\n"
   ]
  },
  {
   "cell_type": "code",
   "execution_count": null,
   "id": "1ebaf45e-75a1-4ace-b668-5487835078e7",
   "metadata": {},
   "outputs": [],
   "source": [
    "# BUILD MODEL\n",
    "# Train your MODEL\n",
    "suffix = int(time.time())\n",
    "MODEL_NAME = f\"Keras Model for Twitter Sentiment Analysis {suffix}\"\n"
   ]
  },
  {
   "cell_type": "code",
   "execution_count": null,
   "id": "05f611ce-e046-4b7d-9ee3-d62d019d6f95",
   "metadata": {},
   "outputs": [],
   "source": [
    "# build a Keras Network\n",
    "def _build_model(input_dim):\n",
    "    model = Sequential()\n",
    "    model.add(layers.Dense(64, input_dim=input_dim, activation='relu'))\n",
    "    model.add(layers.Dense(64, activation='relu'))\n",
    "    model.add(layers.Dense(32, activation='relu'))\n",
    "    model.add(Dropout(0.5))\n",
    "    model.add(layers.Dense(16, activation='relu'))\n",
    "    model.add(Dropout(0.5))\n",
    "    model.add(layers.Dense(1, activation='sigmoid'))\n",
    "    model.compile(loss='binary_crossentropy',\n",
    "                  optimizer='adam', metrics=['accuracy']\n",
    "                  )\n",
    "    return model\n"
   ]
  },
  {
   "cell_type": "code",
   "execution_count": null,
   "id": "0ed517ac-4e7a-45c2-b328-59dd3f7bad71",
   "metadata": {},
   "outputs": [],
   "source": [
    "# build Keras Model\n",
    "model = _build_model(x_train_trans.shape[1])\n",
    "\n",
    "# TRACK THE TRAINING EXPERIMENT USING markovml\n",
    "# add auto_record from markovml to capture this experiment\n",
    "markov.keras.auto_record(\n",
    "    name=MODEL_NAME,\n",
    "    notes=f\"Auto Recording Keras Model with Name: {MODEL_NAME} with Sentence Encoder\",\n",
    "    project_id=project.project_id,\n",
    "    model_class=markov.ModelClass.TAGGING\n",
    ")\n",
    "\n",
    "# Train the model (it will take some time to converge!)\n",
    "model.fit(x_train_trans, y_train, epochs=50, batch_size=32, verbose=False)\n"
   ]
  },
  {
   "cell_type": "code",
   "execution_count": null,
   "id": "c291e049-8329-4ce6-b39e-a9f0ea11bb42",
   "metadata": {},
   "outputs": [],
   "source": [
    "# EVALUATE THE MODEL\n",
    "# print test accuracy report\n",
    "y_pred = model.predict(x_test_trans)\n",
    "orig_copy = y_pred.tolist()\n",
    "y_pred[y_pred > 0.5] = 1\n",
    "y_pred[y_pred <= 0.5] = 0\n",
    "acc = accuracy_score(y_test, y_pred)\n",
    "print(\"Test accuracy:\", acc)\n"
   ]
  },
  {
   "cell_type": "code",
   "execution_count": null,
   "id": "7f06efdd-a62c-4a88-a973-9dcfd827ea7b",
   "metadata": {},
   "outputs": [],
   "source": [
    "# Register with MarkovML Backend\n",
    "# Record the results with MarkovML Evaluator\n",
    "evaluation_recorder = markov.EvaluationRecorder(\n",
    "    name=f\"Sentiment Analysis Keras Model Evaluation {suffix}\",\n",
    "    model_id=model.markov_model_id,\n",
    "    notes=\"This model evaluation captures the performance of V1 model\"\n",
    "         \" against baseline dataset for sentiment analysis\",\n",
    "    dataset_id=\"3vRT5Ut6mhPqFGc23\"\n",
    ")\n",
    "\n",
    "evaluation_recorder.register()\n"
   ]
  },
  {
   "cell_type": "code",
   "execution_count": null,
   "id": "85cf50ea-48d4-4bf7-a7c9-282621b4cc61",
   "metadata": {},
   "outputs": [],
   "source": [
    "def _get_cost(inferred, actual):\n",
    "    if actual == inferred:\n",
    "        return 0\n",
    "    else:\n",
    "        return random.randint(2, 5)\n",
    "\n",
    "\n",
    "urid = 1\n",
    "for prob, pred, orig, txt in zip(orig_copy, y_pred, y_test, x_test):\n",
    "    urid = urid + 1\n",
    "    mi_record = SingleTagInferenceRecord(\n",
    "        inferred=float(pred[0]),\n",
    "        actual=float(orig),\n",
    "        urid=urid,\n",
    "        score=float(prob[0]),\n",
    "        custom_metrics=[\n",
    "            RecordCustomMetric(label=\"Cost\", value=_get_cost(float(pred[0]), float(orig))),\n",
    "            RecordCustomMetric(label=\"Probability\", value=float(prob[0]))\n",
    "        ]\n",
    "    )\n",
    "    evaluation_recorder.add_record(mi_record)\n",
    "\n",
    "outcome = evaluation_recorder.finish()\n",
    "print(outcome)"
   ]
  }
 ],
 "metadata": {
  "kernelspec": {
   "display_name": "Python 3 (ipykernel)",
   "language": "python",
   "name": "python3"
  },
  "language_info": {
   "codemirror_mode": {
    "name": "ipython",
    "version": 3
   },
   "file_extension": ".py",
   "mimetype": "text/x-python",
   "name": "python",
   "nbconvert_exporter": "python",
   "pygments_lexer": "ipython3",
   "version": "3.10.10"
  }
 },
 "nbformat": 4,
 "nbformat_minor": 5
}
